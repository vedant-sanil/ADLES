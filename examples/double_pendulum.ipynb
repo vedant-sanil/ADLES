{
 "cells": [
  {
   "cell_type": "code",
   "execution_count": null,
   "source": [],
   "outputs": [],
   "metadata": {}
  },
  {
   "cell_type": "markdown",
   "source": [
    "$$ L = \\frac{1}{2} m_1 (u_1^2 + v_1^2) - m_1 g y_1 + \\frac{1}{2}m_2 (u_2^2 + v_2^2) - m_2 g y_2\n",
    "\n",
    "        + \\frac{\\lambda_1}{2} (x_1^2+y_1^2 - l_1^2) + \\frac{\\lambda_2}{2} ((x_2-x_1)^2+(y_2-y_1)^2 - l_2^2),\n",
    "$$\n",
    "\n",
    "where $u$ and $v$ are used to indicate velocity. \n",
    "The last two terms are Lagrange multipliers following from the two constraints:\n",
    "$x_1^2+y_1^2 - l_1^2 = 0$ and $(x_2-x_1)^2+(y_2-y_1)^2 - l_2^2 = 0$, which adds the two \n",
    "unkowns $\\lambda_1$ and $\\lambda_2$ to the system.\n",
    "\n",
    "We arrive at the Euler-Lagrange differential equations for the problem, which\n",
    "will have 8 DE and 2 constraints.\n",
    "We add however two more constraints to the problem, following from deriving to\n",
    "time the two known constraints:\n",
    "$$\n",
    "x_1 u_1+y_1 v_1 = 0$$ \n",
    "and \n",
    "$$(x_2-x_1) (u_2-u_1)+(y_2-y_1) (v_2-v_1)=0 $$"
   ],
   "metadata": {}
  },
  {
   "cell_type": "markdown",
   "source": [],
   "metadata": {}
  }
 ],
 "metadata": {
  "orig_nbformat": 4,
  "language_info": {
   "name": "python"
  }
 },
 "nbformat": 4,
 "nbformat_minor": 2
}